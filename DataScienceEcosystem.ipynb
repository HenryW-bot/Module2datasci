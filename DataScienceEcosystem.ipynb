{
 "cells": [
  {
   "cell_type": "code",
   "execution_count": null,
   "id": "35f952a3-77a5-45c5-89d7-928367d753b2",
   "metadata": {},
   "outputs": [],
   "source": []
  },
  {
   "cell_type": "markdown",
   "id": "036bda03-200a-41e6-8118-b4a53c06876f",
   "metadata": {},
   "source": [
    "# Data Science Tools and Ecosystem\n"
   ]
  },
  {
   "cell_type": "markdown",
   "id": "7259dc9e-1445-4978-9025-ac4a265c28a6",
   "metadata": {},
   "source": [
    "In this notebook, Data Science Tools and Ecosystem are summarized.\n"
   ]
  },
  {
   "cell_type": "markdown",
   "id": "1c2a73a3-dd3d-4fc2-9da9-2a9eaf606ee0",
   "metadata": {},
   "source": [
    "**Objectives:**\n",
    "- List popular languages for Data Science\n",
    "- Identify commonly used Data Science libraries\n",
    "- Understand basic arithmetic operations in Python\n"
   ]
  },
  {
   "cell_type": "markdown",
   "id": "0ac06b84-177c-4517-a8a6-2fc95dc915ca",
   "metadata": {},
   "source": [
    "## Author\n",
    "Henry Wagner\n"
   ]
  },
  {
   "cell_type": "markdown",
   "id": "38b8c8b6-371b-4c6c-be86-d7e95c829fc6",
   "metadata": {},
   "source": [
    "Some of the popular languages that Data Scientists use are:\n",
    "1. Python\n",
    "2. R\n",
    "3. SQL\n"
   ]
  },
  {
   "cell_type": "markdown",
   "id": "8c5c7ff5-d1d0-4b4d-a8b1-a7ac8bc4e4bf",
   "metadata": {},
   "source": [
    "Some of the commonly used libraries used by Data Scientists include:\n",
    "1. NumPy\n",
    "2. Pandas\n",
    "3. Matplotlib\n"
   ]
  },
  {
   "cell_type": "markdown",
   "id": "cf3afcd1-ec22-4179-849c-2f7da27cb43e",
   "metadata": {},
   "source": [
    "| Data Science Tools |\n",
    "|--------------------|\n",
    "| Jupyter Notebook    |\n",
    "| RStudio             |\n",
    "| Apache Zeppelin     |\n"
   ]
  },
  {
   "cell_type": "markdown",
   "id": "f0cc32a8-d233-43f2-bb37-b8449a3bdda7",
   "metadata": {},
   "source": [
    "### Below are a few examples of evaluating arithmetic expressions in Python.\n"
   ]
  },
  {
   "cell_type": "code",
   "execution_count": 1,
   "id": "61181a5d-4eb2-4a10-b914-28d5f49a3257",
   "metadata": {},
   "outputs": [
    {
     "data": {
      "text/plain": [
       "17"
      ]
     },
     "execution_count": 1,
     "metadata": {},
     "output_type": "execute_result"
    }
   ],
   "source": [
    "# This is a simple arithmetic expression to multiply then add integers\n",
    "(3*4) + 5\n"
   ]
  },
  {
   "cell_type": "code",
   "execution_count": 2,
   "id": "d75c53f2-3bed-4cbe-aab8-a2e5b49c634d",
   "metadata": {},
   "outputs": [
    {
     "data": {
      "text/plain": [
       "3.3333333333333335"
      ]
     },
     "execution_count": 2,
     "metadata": {},
     "output_type": "execute_result"
    }
   ],
   "source": [
    "# This will convert 200 minutes to hours by dividing by 60\n",
    "200 / 60\n"
   ]
  },
  {
   "cell_type": "code",
   "execution_count": null,
   "id": "faf32d8a-0efa-48c7-adde-e16e8215c702",
   "metadata": {},
   "outputs": [],
   "source": []
  }
 ],
 "metadata": {
  "kernelspec": {
   "display_name": "Python 3 (ipykernel)",
   "language": "python",
   "name": "python3"
  },
  "language_info": {
   "codemirror_mode": {
    "name": "ipython",
    "version": 3
   },
   "file_extension": ".py",
   "mimetype": "text/x-python",
   "name": "python",
   "nbconvert_exporter": "python",
   "pygments_lexer": "ipython3",
   "version": "3.12.5"
  }
 },
 "nbformat": 4,
 "nbformat_minor": 5
}
